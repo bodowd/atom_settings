{
 "cells": [
  {
   "cell_type": "code",
   "execution_count": 4,
   "metadata": {
    "collapsed": true
   },
   "outputs": [],
   "source": [
    "import sys\n",
    "sys.path.append(\"/Users/Bing/Documents/DS/DrivenData/Pover-T/Scripts/\") # need to add path to the parent folder where CV.py is\n",
    "from PoverTHelperTools import *\n",
    "import os \n",
    "import numpy as np\n",
    "import pandas as pd\n",
    "\n",
    "import matplotlib.pyplot as plt\n",
    "%matplotlib inline\n",
    "\n",
    "import seaborn as sns\n",
    "sns.set_style('white')\n",
    "\n",
    "from sklearn.linear_model import LogisticRegression"
   ]
  },
  {
   "cell_type": "code",
   "execution_count": 5,
   "metadata": {
    "collapsed": true
   },
   "outputs": [],
   "source": [
    "hhold_a_train, hhold_b_train, hhold_c_train = load_hhold_train()\n",
    "hhold_a_test, hhold_b_test, hhold_c_test = load_hhold_test()\n",
    "\n",
    "# indiv_a_train, indiv_b_train, indiv_c_train = load_indiv_train()\n",
    "# indiv_a_test, indiv_b_test, indiv_c_test = load_indiv_test()"
   ]
  },
  {
   "cell_type": "code",
   "execution_count": 13,
   "metadata": {
    "collapsed": true
   },
   "outputs": [],
   "source": [
    "def train_LR(df, df_test):\n",
    "    X = pre_process_data(df.drop(['poor', 'country'], axis = 1))\n",
    "    y = np.ravel(df['poor']).astype(int)\n",
    "    \n",
    "    model = LogisticRegression()\n",
    "    model.fit(X,y)\n",
    "\n",
    "    a_test = pre_process_data(df_test, enforce_cols=X.columns)\n",
    "    \n",
    "    preds = model.predict_proba(a_test)\n",
    "    return model, preds"
   ]
  },
  {
   "cell_type": "code",
   "execution_count": 17,
   "metadata": {},
   "outputs": [
    {
     "name": "stdout",
     "output_type": "stream",
     "text": [
      "Input shape:\t(8203, 343)\n",
      "After standardization (8203, 343)\n",
      "After converting categoricals:\t(8203, 858)\n",
      "<class 'pandas.core.frame.DataFrame'>\n",
      "Int64Index: 8203 entries, 46107 to 39832\n",
      "Columns: 858 entries, nEsgxvAq to AlDbXTlZ_cecIq\n",
      "dtypes: float64(4), uint8(854)\n",
      "memory usage: 7.0 MB\n",
      "Input shape:\t(4041, 344)\n",
      "After standardization (4041, 344)\n",
      "After converting categoricals:\t(4041, 851)\n",
      "<class 'pandas.core.frame.DataFrame'>\n",
      "Int64Index: 4041 entries, 418 to 43344\n",
      "Columns: 851 entries, nEsgxvAq to country_A\n",
      "dtypes: float64(4), uint8(847)\n",
      "memory usage: 3.4 MB\n",
      "Input shape:\t(3255, 440)\n",
      "After standardization (3255, 440)\n",
      "After converting categoricals:\t(3255, 1431)\n",
      "<class 'pandas.core.frame.DataFrame'>\n",
      "Int64Index: 3255 entries, 57071 to 4923\n",
      "Columns: 1431 entries, wJthinfa to ChbSWYhO_zmaYX\n",
      "dtypes: float64(23), uint8(1408)\n",
      "memory usage: 5.0 MB\n",
      "Input shape:\t(1604, 441)\n",
      "After standardization (1604, 441)\n",
      "After converting categoricals:\t(1604, 1419)\n",
      "<class 'pandas.core.frame.DataFrame'>\n",
      "Int64Index: 1604 entries, 9135 to 52739\n",
      "Columns: 1419 entries, wJthinfa to country_B\n",
      "dtypes: float64(23), uint8(1396)\n",
      "memory usage: 2.4 MB\n",
      "Input shape:\t(6469, 162)\n",
      "After standardization (6469, 162)\n",
      "After converting categoricals:\t(6469, 794)\n",
      "<class 'pandas.core.frame.DataFrame'>\n",
      "Int64Index: 6469 entries, 57211 to 7646\n",
      "Columns: 794 entries, LhUIIEHQ to eqJPmiPb_wnPqZ\n",
      "dtypes: float64(30), uint8(764)\n",
      "memory usage: 6.2 MB\n",
      "Input shape:\t(3187, 163)\n",
      "After standardization (3187, 163)\n",
      "After converting categoricals:\t(3187, 773)\n",
      "<class 'pandas.core.frame.DataFrame'>\n",
      "Int64Index: 3187 entries, 6211 to 98377\n",
      "Columns: 773 entries, LhUIIEHQ to country_C\n",
      "dtypes: float64(30), uint8(743)\n",
      "memory usage: 3.0 MB\n"
     ]
    }
   ],
   "source": [
    "# aX_train = pre_process_data(hhold_a_train.drop(['poor', 'country'], axis = 1))\n",
    "# ay_train = np.ravel(hhold_a_train['poor']).astype(int)\n",
    "\n",
    "a_LR_model, a_preds = train_LR(hhold_a_train, hhold_a_test)\n",
    "b_LR_model, b_preds = train_LR(hhold_b_train, hhold_b_test)\n",
    "c_LR_model, c_preds = train_LR(hhold_c_train, hhold_c_test)"
   ]
  },
  {
   "cell_type": "code",
   "execution_count": 18,
   "metadata": {
    "collapsed": true
   },
   "outputs": [],
   "source": [
    "def make_country_sub(preds, test_feat, country):\n",
    "\n",
    "    \n",
    "    # just get probabilities for p = 1 with preds[:,1]\n",
    "    country_sub = pd.DataFrame(data = preds[:,1],\n",
    "                              columns = ['poor'],\n",
    "                              index = test_feat.index)\n",
    "    \n",
    "    # add country code to join later on\n",
    "    country_sub['country'] = country\n",
    "    return country_sub[['country', 'poor']]"
   ]
  },
  {
   "cell_type": "code",
   "execution_count": 19,
   "metadata": {},
   "outputs": [],
   "source": [
    "# lgbm subs\n",
    "a_sub = make_country_sub(a_preds, hhold_a_test, 'A')\n",
    "b_sub = make_country_sub(b_preds, hhold_b_test, 'B')\n",
    "c_sub = make_country_sub(c_preds, hhold_c_test, 'C')\n",
    "sub = pd.concat([a_sub, b_sub, c_sub])\n",
    "sub.to_csv('../Submissions/LR_v1.csv')"
   ]
  }
 ],
 "metadata": {
  "kernelspec": {
   "display_name": "Python [DeepLearning]",
   "language": "python",
   "name": "Python [DeepLearning]"
  },
  "language_info": {
   "codemirror_mode": {
    "name": "ipython",
    "version": 3
   },
   "file_extension": ".py",
   "mimetype": "text/x-python",
   "name": "python",
   "nbconvert_exporter": "python",
   "pygments_lexer": "ipython3",
   "version": "3.6.1"
  }
 },
 "nbformat": 4,
 "nbformat_minor": 2
}
